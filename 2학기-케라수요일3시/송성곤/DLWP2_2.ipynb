{
 "cells": [
  {
   "cell_type": "markdown",
   "metadata": {
    "id": "GNF-YTY_AEjA"
   },
   "source": [
    "## 케라스에서 MNIST 데이터셋 적재하기"
   ]
  },
  {
   "cell_type": "code",
   "execution_count": 29,
   "metadata": {
    "id": "Nx-Ihc81_oe9"
   },
   "outputs": [],
   "source": [
    "from keras.datasets import mnist\n",
    "# (훈련 세트), (테스트 세트)\n",
    "(train_images, train_labels), (test_images, test_labels) = mnist.load_data()"
   ]
  },
  {
   "cell_type": "code",
   "execution_count": 30,
   "metadata": {
    "colab": {
     "base_uri": "https://localhost:8080/",
     "height": 71
    },
    "id": "HKMNQ9Ud_v9U",
    "outputId": "2cfb9c16-a28a-495a-9b66-f3757bcdb99c"
   },
   "outputs": [
    {
     "name": "stdout",
     "output_type": "stream",
     "text": [
      "train_images: (60000, 28, 28)\n",
      "train_labels: [5 0 4 ... 5 6 8]\n",
      "length of train_labels: 60000\n"
     ]
    }
   ],
   "source": [
    "# 훈련 데이터 살펴보기\n",
    "print(\"train_images:\",train_images.shape)\n",
    "print(\"train_labels:\",train_labels)\n",
    "print(\"length of train_labels:\",len(train_labels))"
   ]
  },
  {
   "cell_type": "code",
   "execution_count": 31,
   "metadata": {
    "colab": {
     "base_uri": "https://localhost:8080/",
     "height": 71
    },
    "id": "Ncs1cuWv_z7i",
    "outputId": "c4838ba7-e477-497e-961a-c80c44d6011b"
   },
   "outputs": [
    {
     "name": "stdout",
     "output_type": "stream",
     "text": [
      "test_images: (10000, 28, 28)\n",
      "test_labels: [7 2 1 ... 4 5 6]\n",
      "length of test_labels: 10000\n"
     ]
    }
   ],
   "source": [
    "# 테스트 데이터 살펴보기\n",
    "print(\"test_images:\",test_images.shape)\n",
    "print(\"test_labels:\",test_labels)\n",
    "print(\"length of test_labels:\",len(test_labels))"
   ]
  },
  {
   "cell_type": "markdown",
   "metadata": {
    "id": "_i15WvpBABFD"
   },
   "source": [
    "## 2-2 신경망 구조"
   ]
  },
  {
   "cell_type": "code",
   "execution_count": 32,
   "metadata": {
    "id": "HFONISyn_0Qa"
   },
   "outputs": [],
   "source": [
    "from keras import models\n",
    "from keras import layers\n",
    "\n",
    "network = models.Sequential()\n",
    "network.add(layers.Dense(512, activation='relu', input_shape=(28*28,)))  # Dense층 : fully-connected 완전 연결, 조밀하게 연결\n",
    "network.add(layers.Dense(10,activation='softmax'))                       # 10개의 확률 점수가 들어있는 배열을 반환하는 소프트맥스 층"
   ]
  },
  {
   "cell_type": "markdown",
   "metadata": {
    "id": "keXLwUXVAKGW"
   },
   "source": [
    "## 2-3 컴파일 단계\n",
    "신경망이 훈련 준비를 마치기 위해서 컴파일 단계에 포함될 세 가지\n",
    "- loss function: 옳은 방향으로 학습할 수 있게 해줌\n",
    "- optimizer: 데이터와 loss function을 이용해 네트워크를 업데이트하는 메커니즘\n",
    "- metrics: 훈련과 테스트 과정을 모니터링할 지표"
   ]
  },
  {
   "cell_type": "code",
   "execution_count": 33,
   "metadata": {
    "id": "yCzcPN2R_0ri"
   },
   "outputs": [],
   "source": [
    "network.compile(optimizer='rmsprop',\n",
    "                loss = 'categorical_crossentropy',\n",
    "                metrics=['accuracy'])"
   ]
  },
  {
   "cell_type": "markdown",
   "metadata": {
    "id": "SMuTbJTiBga0"
   },
   "source": [
    "## 2-4 이미지 데이터 준비하기\n",
    "- 데이터를 네트워크에 맞는 크기로 바꾼다 \n",
    "- 모든 값을 0과 1 사이로 스케일 조정 (신경망은 입력값의 스케일에 민감하다)"
   ]
  },
  {
   "cell_type": "code",
   "execution_count": 34,
   "metadata": {
    "id": "tXi_Y8-yCOPC"
   },
   "outputs": [],
   "source": [
    "train_images1 = train_images.reshape(60000,28*28)"
   ]
  },
  {
   "cell_type": "code",
   "execution_count": 35,
   "metadata": {
    "id": "dM-MzU7DBfg-"
   },
   "outputs": [],
   "source": [
    "train_images = train_images.reshape((60000,28*28)) # 왜 괄호가 이중으로?\n",
    "train_images = train_images.astype('float32')/255\n",
    "\n",
    "test_images = test_images.reshape((10000,28*28))\n",
    "test_images = test_images.astype('float32')/255"
   ]
  },
  {
   "cell_type": "code",
   "execution_count": 36,
   "metadata": {
    "colab": {
     "base_uri": "https://localhost:8080/",
     "height": 53
    },
    "id": "W0w0mcj3CsCE",
    "outputId": "4ab2eed3-6fc3-4369-9c09-378eecbd7716"
   },
   "outputs": [
    {
     "name": "stdout",
     "output_type": "stream",
     "text": [
      "괄호 한개: (60000, 784)\n",
      "괄호 두개: (60000, 784)\n"
     ]
    }
   ],
   "source": [
    "print('괄호 한개:',train_images1.shape)\n",
    "print('괄호 두개:',train_images.shape)"
   ]
  },
  {
   "cell_type": "markdown",
   "metadata": {
    "id": "T8vAOc5TDjDt"
   },
   "source": [
    "## 2-5 레이블 준비하기\n",
    "- 레이블을 범주형으로 인코딩\n",
    "- 훈련데이터의 개수 n, 클래스의 개수 k ->  입력받은 n에 대해 (n,k)의 정수 배열로 변경"
   ]
  },
  {
   "cell_type": "code",
   "execution_count": 37,
   "metadata": {
    "id": "_XRjtch6_0wl"
   },
   "outputs": [],
   "source": [
    "from keras.utils import to_categorical\n",
    "\n",
    "train_labels = to_categorical(train_labels)\n",
    "test_labels = to_categorical(test_labels)"
   ]
  },
  {
   "cell_type": "code",
   "execution_count": 38,
   "metadata": {
    "colab": {
     "base_uri": "https://localhost:8080/",
     "height": 143
    },
    "id": "BPHDiHCk_00V",
    "outputId": "1d55a07b-249b-46f7-d87e-53234df8a204"
   },
   "outputs": [
    {
     "data": {
      "text/plain": [
       "array([[0., 0., 0., ..., 0., 0., 0.],\n",
       "       [1., 0., 0., ..., 0., 0., 0.],\n",
       "       [0., 0., 0., ..., 0., 0., 0.],\n",
       "       ...,\n",
       "       [0., 0., 0., ..., 0., 0., 0.],\n",
       "       [0., 0., 0., ..., 0., 0., 0.],\n",
       "       [0., 0., 0., ..., 0., 1., 0.]], dtype=float32)"
      ]
     },
     "execution_count": 38,
     "metadata": {
      "tags": []
     },
     "output_type": "execute_result"
    }
   ],
   "source": [
    "train_labels"
   ]
  },
  {
   "cell_type": "markdown",
   "metadata": {
    "id": "0numR1UlETf-"
   },
   "source": [
    "## 훈련하기"
   ]
  },
  {
   "cell_type": "code",
   "execution_count": 39,
   "metadata": {
    "colab": {
     "base_uri": "https://localhost:8080/",
     "height": 215
    },
    "id": "y5aVzRyk_030",
    "outputId": "1502b6b2-c16b-4cce-bacf-0fa988ea6a01"
   },
   "outputs": [
    {
     "name": "stdout",
     "output_type": "stream",
     "text": [
      "Epoch 1/5\n",
      "469/469 [==============================] - 4s 9ms/step - loss: 0.2530 - accuracy: 0.9274\n",
      "Epoch 2/5\n",
      "469/469 [==============================] - 4s 9ms/step - loss: 0.1013 - accuracy: 0.9700\n",
      "Epoch 3/5\n",
      "469/469 [==============================] - 4s 9ms/step - loss: 0.0676 - accuracy: 0.9795\n",
      "Epoch 4/5\n",
      "469/469 [==============================] - 4s 9ms/step - loss: 0.0493 - accuracy: 0.9852\n",
      "Epoch 5/5\n",
      "469/469 [==============================] - 4s 9ms/step - loss: 0.0370 - accuracy: 0.9891\n"
     ]
    },
    {
     "data": {
      "text/plain": [
       "<tensorflow.python.keras.callbacks.History at 0x7f37ea80f6a0>"
      ]
     },
     "execution_count": 39,
     "metadata": {
      "tags": []
     },
     "output_type": "execute_result"
    }
   ],
   "source": [
    "network.fit(train_images,train_labels,epochs=5,batch_size=128)"
   ]
  },
  {
   "cell_type": "markdown",
   "metadata": {
    "id": "Ng_DlZ35EZqt"
   },
   "source": [
    "## 테스트하기"
   ]
  },
  {
   "cell_type": "code",
   "execution_count": 40,
   "metadata": {
    "colab": {
     "base_uri": "https://localhost:8080/",
     "height": 53
    },
    "id": "A4rqGa5D_zYY",
    "outputId": "1409799c-f2a5-4752-8cba-2bceb557db54"
   },
   "outputs": [
    {
     "name": "stdout",
     "output_type": "stream",
     "text": [
      "313/313 [==============================] - 1s 2ms/step - loss: 0.0702 - accuracy: 0.9790\n",
      "test_acc: 0.9789999723434448\n"
     ]
    }
   ],
   "source": [
    "test_loss, test_acc = network.evaluate(test_images,test_labels)\n",
    "print('test_acc:',test_acc)"
   ]
  },
  {
   "cell_type": "code",
   "execution_count": null,
   "metadata": {
    "id": "8ZnofIVXHoVH"
   },
   "outputs": [],
   "source": [
    "## 2-6 다선 번째 이미지 출력하기\n",
    "digit = train_images[4].reshape(28,28)\n",
    "import matplotlib.pyplot as plt\n",
    "plt.imshow(digit, cmap = plt.cm.binary)\n",
    "plt.show()"
   ]
  },
  {
   "cell_type": "markdown",
   "metadata": {
    "id": "pFQrqnA9FS-2"
   },
   "source": [
    "# 신경망을 위한 데이터 표현"
   ]
  },
  {
   "cell_type": "markdown",
   "metadata": {
    "id": "3ryjSqN1Ib-k"
   },
   "source": [
    "## 텐서란?"
   ]
  },
  {
   "cell_type": "markdown",
   "metadata": {
    "id": "lwdNvJ5CFzm7"
   },
   "source": [
    "### 스칼라 텐서"
   ]
  },
  {
   "cell_type": "code",
   "execution_count": null,
   "metadata": {
    "id": "arDGzZOIFS2C"
   },
   "outputs": [],
   "source": [
    "import numpy as np\n",
    "x = np.array(12)"
   ]
  },
  {
   "cell_type": "code",
   "execution_count": null,
   "metadata": {
    "id": "XnNbhgUkFwMt"
   },
   "outputs": [],
   "source": [
    "x"
   ]
  },
  {
   "cell_type": "code",
   "execution_count": null,
   "metadata": {
    "id": "H8Se9Z6uFwmq"
   },
   "outputs": [],
   "source": [
    "x.ndim"
   ]
  },
  {
   "cell_type": "markdown",
   "metadata": {
    "id": "3IVwXaF-F2b9"
   },
   "source": [
    "### 벡터 (1D 텐서)"
   ]
  },
  {
   "cell_type": "code",
   "execution_count": null,
   "metadata": {
    "id": "-Qff7Xr0F5qA"
   },
   "outputs": [],
   "source": [
    "x = np.array([12,3,6,14,7])   # 원소 5개 == 5차원 벡터, 5차원 텐서와 착각 x\n",
    "x"
   ]
  },
  {
   "cell_type": "code",
   "execution_count": null,
   "metadata": {
    "id": "qrahzB2fF-Vr"
   },
   "outputs": [],
   "source": [
    "x.ndim"
   ]
  },
  {
   "cell_type": "markdown",
   "metadata": {
    "id": "ndSMGiIaGAy6"
   },
   "source": [
    "### Matrix, 행렬 (2D 텐서)"
   ]
  },
  {
   "cell_type": "code",
   "execution_count": null,
   "metadata": {
    "id": "rMGCAKM2GMs4"
   },
   "outputs": [],
   "source": [
    "x = np.array([[5,78,2,34,0],\n",
    "              [6,79,3,35,1],\n",
    "              [7,80,4,36,2]])\n",
    "x"
   ]
  },
  {
   "cell_type": "code",
   "execution_count": null,
   "metadata": {
    "id": "8FxCSJmIGWwP"
   },
   "outputs": [],
   "source": [
    "x.ndim"
   ]
  },
  {
   "cell_type": "markdown",
   "metadata": {
    "id": "9Xufh0CtGfKR"
   },
   "source": [
    "### 3D 텐서와 고차원 텐서"
   ]
  },
  {
   "cell_type": "code",
   "execution_count": null,
   "metadata": {
    "id": "9iIXWijgGW1N"
   },
   "outputs": [],
   "source": [
    "x = np.array([[[5,78,2,34,0],\n",
    "              [6,79,3,35,1],\n",
    "              [7,80,4,36,2]],\n",
    "              [[5,78,2,34,0],\n",
    "              [6,79,3,35,1],\n",
    "              [7,80,4,36,2]]])\n",
    "x"
   ]
  },
  {
   "cell_type": "code",
   "execution_count": null,
   "metadata": {
    "id": "8K0xYQzoGWy9"
   },
   "outputs": [],
   "source": [
    "x.ndim"
   ]
  },
  {
   "cell_type": "markdown",
   "metadata": {
    "id": "TmuOLuOMIe-Z"
   },
   "source": []
  },
  {
   "cell_type": "markdown",
   "metadata": {
    "id": "TrrUKke4IgtZ"
   },
   "source": [
    "## 넘파이로 텐서 조작하기"
   ]
  },
  {
   "cell_type": "code",
   "execution_count": null,
   "metadata": {
    "id": "aXFz2FWIIie0"
   },
   "outputs": [],
   "source": [
    "my_slice = train_images[10:100]\n",
    "print(my_slice.shape)"
   ]
  },
  {
   "cell_type": "code",
   "execution_count": null,
   "metadata": {
    "id": "Sbt1zML3I1xs"
   },
   "outputs": [],
   "source": [
    "my_slice = train_images[10:100,:,:]\n",
    "print(my_slice.shape)"
   ]
  },
  {
   "cell_type": "code",
   "execution_count": null,
   "metadata": {
    "id": "mYhpHbqhJBBr"
   },
   "outputs": [],
   "source": [
    "# 그냥 한번 잘라봄 ㅎㅎ\n",
    "y = train_images[5,:19,:19]\n",
    "plt.imshow(y, cmap = plt.cm.binary)\n",
    "plt.show()"
   ]
  },
  {
   "cell_type": "markdown",
   "metadata": {
    "id": "la-BM0ZcKCwf"
   },
   "source": [
    "## 배치 데이터\n",
    "- 첫번째 축, 샘플 축, 샘플 차원"
   ]
  },
  {
   "cell_type": "markdown",
   "metadata": {
    "id": "hLOTqDgZKa0U"
   },
   "source": [
    "## 텐서의 실제 사례\n",
    "- 벡터: 2D 텐서 (samples, features)\n",
    "- 시계열 데이터 or 시퀀스 데이터: 3D 텐서 (samples, timesteps, features)\n",
    "- 이미지, 텐서: 4D 텐서 (samples, height, width, channels) or (samples, channels, height, width)\n",
    "- 동영상: 5D 텐서 (samples, frames, height, width, channels) 또는 (samples, frames, channels, height, width)"
   ]
  },
  {
   "cell_type": "markdown",
   "metadata": {
    "id": "LiJDGo1cLI1R"
   },
   "source": [
    "### 벡터 데이터\n",
    "- (샘플 축, 특성 축)"
   ]
  },
  {
   "cell_type": "markdown",
   "metadata": {
    "id": "pM7NzrQ4LJ7K"
   },
   "source": [
    "### 시계열 데이터 또는 시퀀스 데이터\n",
    "(샘플, 타임스텝, 특성)\n",
    "- 주식 가격 데이터셋: (일, 시간, 값)\n",
    "- 트윗 데이터셋: (samples, 문자 시퀀스, 알파벳)"
   ]
  },
  {
   "cell_type": "markdown",
   "metadata": {
    "id": "reWGCp5LLJfY"
   },
   "source": [
    "### 이미지 데이터\n",
    "(샘플, 채널, 너비, 높이) or (샘플, 너비, 높이, 채널)"
   ]
  },
  {
   "cell_type": "markdown",
   "metadata": {
    "id": "NhJppELTLJK6"
   },
   "source": [
    "### 비디오 데이터\n",
    "(샘플, 프레임, 채널, 너비, 높이)"
   ]
  },
  {
   "cell_type": "markdown",
   "metadata": {
    "id": "QKVQchkiNbEm"
   },
   "source": [
    "# 텐서 연산"
   ]
  },
  {
   "cell_type": "code",
   "execution_count": null,
   "metadata": {
    "id": "VXvuSbfqKCrq"
   },
   "outputs": [],
   "source": [
    "keras.layers.Dense(512,acitvation='relu')\n",
    "output = relu(dot(W, input) + b)\n",
    "dot은 w와 input의 점곱\n",
    "b를 더한다\n",
    "relu(x) max(x,0) # 0보다 크면 x를, 0보다 작으면 0을 리턴"
   ]
  },
  {
   "cell_type": "markdown",
   "metadata": {
    "id": "PJPF08brOVIx"
   },
   "source": [
    "## 원소별 연산"
   ]
  },
  {
   "cell_type": "code",
   "execution_count": null,
   "metadata": {
    "id": "bbR7WGL2Nh8c"
   },
   "outputs": [],
   "source": [
    "def naive_relu(x):\n",
    "  assert len(x.shape) == 2: # 입력값의 차원이 2D가 아니면 안 됨 ,if면 오류가 안 나므로 무조건 2D가 오게끔 한다.\n",
    "\n",
    "  x = x.copy()\n",
    "  for i in range(x.shape[0]):   # samples 개수만큼\n",
    "    for j in range(x.shape[1]): # feature들에 대해 \n",
    "      x[i,j] = max(x[i,j],0)    # relu 시전\n",
    "  return x"
   ]
  },
  {
   "cell_type": "code",
   "execution_count": null,
   "metadata": {
    "id": "Y8KXPuXDPmKW"
   },
   "outputs": [],
   "source": [
    "def naive_add(x, y):\n",
    "  assert len(x.shape) == 2\n",
    "  assert x.shape==y.shape\n",
    "\n",
    "  x = x.copy()\n",
    "  for i in range(x.shape[0]):\n",
    "    for j in range(x.shape[1]):\n",
    "      x[i,j] += y[i,j]\n",
    "  return x"
   ]
  },
  {
   "cell_type": "markdown",
   "metadata": {
    "id": "BaIVLzMLQl_b"
   },
   "source": [
    "## 브로드캐스팅\n",
    "- 크기가 다른 두 텐서를 계산할 때, 작은 텐서를 큰 텐서의 크기에 맞춘다.\n",
    "- 브로드캐스팅 축을 추가하고, 큰 텐서 크기에 맞게 반복됨"
   ]
  },
  {
   "cell_type": "code",
   "execution_count": null,
   "metadata": {
    "id": "lapCG60UQoYk"
   },
   "outputs": [],
   "source": [
    "def naive_add_matrix_and_vector(x,y):\n",
    "  assert len(x.shape) == 2             # [[1,2,3,4,5],[1,2,3,4,5]]\n",
    "  assert len(y.shape) == 1             # [1,2,3,4,5]\n",
    "  assert x.shape[1] == y.shape[0]   # 매트릭스의 feture 개수가 벡터의 feature 개수만큼 있나 확인\n",
    "\n",
    "  x = x.copy()\n",
    "  for i in range(x.shape[0]):\n",
    "    for j in range(x.shape[1]):\n",
    "      x[i,j] += y[i,j]\n",
    "  return x"
   ]
  },
  {
   "cell_type": "code",
   "execution_count": null,
   "metadata": {
    "id": "OktUYjbbRVjr"
   },
   "outputs": [],
   "source": [
    "import numpy as np\n",
    "\n",
    "x = np.random.random((64,3,32,10))\n",
    "y = np.random.random((32,10))\n",
    "\n",
    "z = np.maximum(x,y)\n",
    "z.shape"
   ]
  },
  {
   "cell_type": "code",
   "execution_count": null,
   "metadata": {
    "id": "YD_j808lZQo1"
   },
   "outputs": [],
   "source": [
    "# 벡터x, 벡터 y의 점곱\n",
    "def naive_vector_dot(x,y):\n",
    "  assert len(x.shape) == 1\n",
    "  assert len(x.shape) == 1\n",
    "  assert x.shape[0] == y.shape[0]\n",
    "\n",
    "  z = 0.\n",
    "  for i in range(x.shape[0]):\n",
    "    z += x[i] *j[i]\n",
    "  return z"
   ]
  },
  {
   "cell_type": "code",
   "execution_count": null,
   "metadata": {
    "id": "qddF8_WhZzQR"
   },
   "outputs": [],
   "source": [
    "# 행렬 x와 벡터 y의 곱\n",
    "def naive_matrix_vector_dot(x,y):\n",
    "  assert len(x.shape) == 2\n",
    "  assert len(y.shape) == 1\n",
    "  assert x.shape[1] == y.shape[0]\n",
    "\n",
    "  z = np.zeros(x.shape[0])\n",
    "  for i in range(x.shape[0]):\n",
    "    for j in range(x.shape[1]):\n",
    "      z[i] += x[i,j]*y[i]\n",
    "  return z"
   ]
  },
  {
   "cell_type": "code",
   "execution_count": null,
   "metadata": {
    "id": "CdR-LG1jbTKt"
   },
   "outputs": [],
   "source": [
    "# 행렬 벡터 점곱 \n",
    "def naive_matrix_vector_dot(x,y):\n",
    "  z = np.zeros(x.shape[0])\n",
    "  for i in range(x.shape[0]):\n",
    "    z[i] = naive_vector_dot(x[i,:],y)\n",
    "  return z"
   ]
  },
  {
   "cell_type": "code",
   "execution_count": null,
   "metadata": {
    "id": "DRYdZVoAb-pq"
   },
   "outputs": [],
   "source": [
    "# \n",
    "def naive_matrix_dot(x,y):\n",
    "  assert len(x.shape) == 2\n",
    "  assert len(y.shape) == 2\n",
    "  assert x.shape[1] == y.shape[0]  #  행렬의 곱 (a * b) * (c * d) 에서 b와 c가 같아야 한다는 말\n",
    "\n",
    "  z = np.zeros((x.shape[0],y.shape[1]))\n",
    "  for i in range(x.shape[0]):\n",
    "    for j in range(y.shape[1]):\n",
    "      row_x = x[i,:]\n",
    "      column_y = y[:,j]\n",
    "      z[i,j] = naive_vector_dot(row_x,column_y)\n",
    "  return z"
   ]
  },
  {
   "cell_type": "markdown",
   "metadata": {
    "id": "cP4swRkxdgrU"
   },
   "source": [
    "## 텐서 크기 변환\n",
    "- reshape\n",
    "- transpose(전치)"
   ]
  },
  {
   "cell_type": "code",
   "execution_count": null,
   "metadata": {
    "id": "v6M2-Y1bdnGn"
   },
   "outputs": [],
   "source": [
    "x = np.array([[0.,1.],\n",
    "              [2.,3.],\n",
    "              [4.,5.]])"
   ]
  },
  {
   "cell_type": "code",
   "execution_count": null,
   "metadata": {
    "id": "aM5VLnosdut9"
   },
   "outputs": [],
   "source": [
    "print(x.shape)"
   ]
  },
  {
   "cell_type": "code",
   "execution_count": null,
   "metadata": {
    "id": "sgKBAvuXdwwc"
   },
   "outputs": [],
   "source": [
    "x = x.reshape((6,1))\n",
    "x"
   ]
  },
  {
   "cell_type": "code",
   "execution_count": null,
   "metadata": {
    "id": "PoyJZDC7d7Te"
   },
   "outputs": [],
   "source": [
    "x = x.reshape(2,3)\n",
    "x"
   ]
  },
  {
   "cell_type": "code",
   "execution_count": null,
   "metadata": {
    "id": "ZDAIFJLndw9f"
   },
   "outputs": [],
   "source": [
    "x = np.zeros((300,20))\n",
    "x.shape"
   ]
  },
  {
   "cell_type": "code",
   "execution_count": null,
   "metadata": {
    "id": "mOy2mBhhdxCG"
   },
   "outputs": [],
   "source": [
    "x = np.transpose(x)\n",
    "print(x.shape)"
   ]
  },
  {
   "cell_type": "markdown",
   "metadata": {
    "id": "wUsxJEbGgcbX"
   },
   "source": [
    "### 변화율"
   ]
  },
  {
   "cell_type": "code",
   "execution_count": null,
   "metadata": {
    "id": "4W4uhGuydxFl"
   },
   "outputs": [],
   "source": [
    "# x: 입력 벡터\n",
    "# W: 행렬\n",
    "# y: 타깃\n",
    "# loss: 손실함수\n",
    "\n",
    "y_pred = dot(W,x)\n",
    "loss_value = loss(y_pred, y)\n",
    "loss_value = f(W)"
   ]
  },
  {
   "cell_type": "markdown",
   "metadata": {
    "id": "x41M1fYHFDv7"
   },
   "source": [
    "# 복습"
   ]
  },
  {
   "cell_type": "code",
   "execution_count": 55,
   "metadata": {
    "id": "JrG2y8U6dxIx"
   },
   "outputs": [],
   "source": [
    "from keras.datasets import mnist\n",
    "(train_images, train_labels),(test_images,test_labels) = mnist.load_data()"
   ]
  },
  {
   "cell_type": "code",
   "execution_count": 56,
   "metadata": {
    "colab": {
     "base_uri": "https://localhost:8080/",
     "height": 89
    },
    "id": "DC5SrbSfdxMm",
    "outputId": "4ceae813-a2f0-4270-d48d-04fa4ff318d7"
   },
   "outputs": [
    {
     "name": "stdout",
     "output_type": "stream",
     "text": [
      "60000\n",
      "60000\n",
      "10000\n",
      "10000\n"
     ]
    }
   ],
   "source": [
    "print(len(train_images))\n",
    "print(len(train_labels))\n",
    "print(len(test_images))\n",
    "print(len(test_labels))"
   ]
  },
  {
   "cell_type": "code",
   "execution_count": 57,
   "metadata": {
    "colab": {
     "base_uri": "https://localhost:8080/",
     "height": 89
    },
    "id": "Uc5YzGEudxP-",
    "outputId": "b3c148a5-f7bc-4a35-9cff-573cd353f2c0"
   },
   "outputs": [
    {
     "name": "stdout",
     "output_type": "stream",
     "text": [
      "(60000, 28, 28)\n",
      "(60000,)\n",
      "(10000, 28, 28)\n",
      "(10000,)\n"
     ]
    }
   ],
   "source": [
    "print(train_images.shape)\n",
    "print(train_labels.shape)\n",
    "print(test_images.shape)\n",
    "print(test_labels.shape)"
   ]
  },
  {
   "cell_type": "code",
   "execution_count": 58,
   "metadata": {
    "id": "0RVJMfuxF4Zh"
   },
   "outputs": [],
   "source": [
    "train_images = train_images.reshape((60000,28*28))\n",
    "train_images = train_images.astype('float32')/255.\n",
    "test_images = test_images.reshape((10000,28*28))\n",
    "test_images = test_images.astype('float32')/255."
   ]
  },
  {
   "cell_type": "code",
   "execution_count": 59,
   "metadata": {
    "colab": {
     "base_uri": "https://localhost:8080/",
     "height": 35
    },
    "id": "g3wKJOXjGs-N",
    "outputId": "bcbfb10c-c67a-4321-b4ea-98c7521f9098"
   },
   "outputs": [
    {
     "name": "stdout",
     "output_type": "stream",
     "text": [
      "(60000, 784)\n"
     ]
    }
   ],
   "source": [
    "print(train_images.shape)"
   ]
  },
  {
   "cell_type": "code",
   "execution_count": 60,
   "metadata": {
    "id": "nf-ECJSwFxVD"
   },
   "outputs": [],
   "source": [
    "from keras import layers\n",
    "from keras import models\n",
    "\n",
    "network = models.Sequential()\n",
    "network.add(layers.Dense(512, activation='relu',input_shape=(28*28,)))\n",
    "network.add(layers.Dense(10, activation='softmax'))"
   ]
  },
  {
   "cell_type": "code",
   "execution_count": 61,
   "metadata": {
    "colab": {
     "base_uri": "https://localhost:8080/",
     "height": 35
    },
    "id": "BHG8nyCRJAzZ",
    "outputId": "51d91dc1-8721-4761-e063-31bb1e340cb4"
   },
   "outputs": [
    {
     "data": {
      "text/plain": [
       "0"
      ]
     },
     "execution_count": 61,
     "metadata": {
      "tags": []
     },
     "output_type": "execute_result"
    }
   ],
   "source": [
    "train_labels[1]"
   ]
  },
  {
   "cell_type": "code",
   "execution_count": 62,
   "metadata": {
    "id": "TGl9-e-CIwuk"
   },
   "outputs": [],
   "source": [
    "from keras.utils import to_categorical\n",
    "\n",
    "train_labels = to_categorical(train_labels)\n",
    "test_labels = to_categorical(test_labels)"
   ]
  },
  {
   "cell_type": "code",
   "execution_count": 63,
   "metadata": {
    "colab": {
     "base_uri": "https://localhost:8080/",
     "height": 35
    },
    "id": "o3xvOKj3JLF0",
    "outputId": "63beeb3f-cb6f-4064-a82c-128ecf5a8e8c"
   },
   "outputs": [
    {
     "data": {
      "text/plain": [
       "array([1., 0., 0., 0., 0., 0., 0., 0., 0., 0.], dtype=float32)"
      ]
     },
     "execution_count": 63,
     "metadata": {
      "tags": []
     },
     "output_type": "execute_result"
    }
   ],
   "source": [
    "train_labels[1]"
   ]
  },
  {
   "cell_type": "code",
   "execution_count": 64,
   "metadata": {
    "id": "K2q9bNmMHDw_"
   },
   "outputs": [],
   "source": [
    "network.compile(optimizer='rmsprop',\n",
    "                loss='categorical_crossentropy',\n",
    "                metrics=['accuracy'])"
   ]
  },
  {
   "cell_type": "code",
   "execution_count": 65,
   "metadata": {
    "colab": {
     "base_uri": "https://localhost:8080/",
     "height": 233
    },
    "id": "UKAiQqBUHudj",
    "outputId": "aede0d05-9f17-42af-d8b7-f25bbdeea2b4"
   },
   "outputs": [
    {
     "name": "stdout",
     "output_type": "stream",
     "text": [
      "Model: \"sequential_3\"\n",
      "_________________________________________________________________\n",
      "Layer (type)                 Output Shape              Param #   \n",
      "=================================================================\n",
      "dense_6 (Dense)              (None, 512)               401920    \n",
      "_________________________________________________________________\n",
      "dense_7 (Dense)              (None, 10)                5130      \n",
      "=================================================================\n",
      "Total params: 407,050\n",
      "Trainable params: 407,050\n",
      "Non-trainable params: 0\n",
      "_________________________________________________________________\n"
     ]
    }
   ],
   "source": [
    "network.summary()"
   ]
  },
  {
   "cell_type": "code",
   "execution_count": 66,
   "metadata": {
    "colab": {
     "base_uri": "https://localhost:8080/",
     "height": 35
    },
    "id": "MbF8SwKtH1z3",
    "outputId": "760e282b-be49-40fc-9825-e21dd5dc1846"
   },
   "outputs": [
    {
     "data": {
      "text/plain": [
       "(784,)"
      ]
     },
     "execution_count": 66,
     "metadata": {
      "tags": []
     },
     "output_type": "execute_result"
    }
   ],
   "source": [
    "train_images[1].shape"
   ]
  },
  {
   "cell_type": "code",
   "execution_count": 67,
   "metadata": {
    "colab": {
     "base_uri": "https://localhost:8080/",
     "height": 215
    },
    "id": "IOmukR1KHWUr",
    "outputId": "5a0f7989-8976-4d0c-a9d1-e68947fe279b"
   },
   "outputs": [
    {
     "name": "stdout",
     "output_type": "stream",
     "text": [
      "Epoch 1/5\n",
      "469/469 [==============================] - 4s 9ms/step - loss: 0.2551 - accuracy: 0.9262\n",
      "Epoch 2/5\n",
      "469/469 [==============================] - 4s 9ms/step - loss: 0.1045 - accuracy: 0.9695\n",
      "Epoch 3/5\n",
      "469/469 [==============================] - 4s 9ms/step - loss: 0.0679 - accuracy: 0.9797\n",
      "Epoch 4/5\n",
      "469/469 [==============================] - 4s 9ms/step - loss: 0.0504 - accuracy: 0.9853\n",
      "Epoch 5/5\n",
      "469/469 [==============================] - 4s 9ms/step - loss: 0.0370 - accuracy: 0.9887\n"
     ]
    },
    {
     "data": {
      "text/plain": [
       "<tensorflow.python.keras.callbacks.History at 0x7f37e745de80>"
      ]
     },
     "execution_count": 67,
     "metadata": {
      "tags": []
     },
     "output_type": "execute_result"
    }
   ],
   "source": [
    "network.fit(train_images, train_labels, epochs=5, batch_size=128)"
   ]
  },
  {
   "cell_type": "code",
   "execution_count": 69,
   "metadata": {
    "colab": {
     "base_uri": "https://localhost:8080/",
     "height": 35
    },
    "id": "Yusr2loWJb_M",
    "outputId": "d0407ead-47a8-4c7a-ce8e-19d822a589e9"
   },
   "outputs": [
    {
     "name": "stdout",
     "output_type": "stream",
     "text": [
      "313/313 [==============================] - 1s 2ms/step - loss: 0.0684 - accuracy: 0.9803\n"
     ]
    }
   ],
   "source": [
    "test_loss, test_acc = network.evaluate(test_images, test_labels)"
   ]
  },
  {
   "cell_type": "code",
   "execution_count": 70,
   "metadata": {
    "colab": {
     "base_uri": "https://localhost:8080/",
     "height": 35
    },
    "id": "aVpEq9w2JmiN",
    "outputId": "1519a847-d087-4183-a05f-8817501f61ef"
   },
   "outputs": [
    {
     "name": "stdout",
     "output_type": "stream",
     "text": [
      "test_acc: 0.9803000092506409\n"
     ]
    }
   ],
   "source": [
    "print('test_acc:', test_acc)"
   ]
  }
 ],
 "metadata": {
  "colab": {
   "collapsed_sections": [],
   "name": "DLWP2_2.ipynb",
   "provenance": []
  },
  "kernelspec": {
   "display_name": "Python 3",
   "language": "python",
   "name": "python3"
  },
  "language_info": {
   "codemirror_mode": {
    "name": "ipython",
    "version": 3
   },
   "file_extension": ".py",
   "mimetype": "text/x-python",
   "name": "python",
   "nbconvert_exporter": "python",
   "pygments_lexer": "ipython3",
   "version": "3.7.6"
  }
 },
 "nbformat": 4,
 "nbformat_minor": 1
}
